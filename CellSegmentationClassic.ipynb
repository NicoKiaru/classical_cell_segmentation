{
 "cells": [
  {
   "cell_type": "code",
   "execution_count": 1,
   "id": "e6ebed44-e509-4019-b005-588f128d133c",
   "metadata": {},
   "outputs": [],
   "source": [
    "# Standard library imports\n",
    "import numpy as np\n",
    "import matplotlib.pyplot as plt\n",
    "\n",
    "# Third-party specialized imports\n",
    "import tifffile\n",
    "import napari\n",
    "\n",
    "# Scikit-image imports\n",
    "from skimage import data, filters, io\n",
    "from skimage.measure import label, regionprops\n",
    "from skimage.morphology import (\n",
    "    disk, \n",
    "    dilation, \n",
    "    remove_small_objects, \n",
    "    skeletonize\n",
    ")\n",
    "from skimage.segmentation import expand_labels, find_boundaries\n",
    "\n",
    "from scipy import ndimage\n",
    "\n",
    "# Jupyter notebook integration\n",
    "%gui qt\n",
    "\n"
   ]
  },
  {
   "cell_type": "code",
   "execution_count": 2,
   "id": "e17c19b4-6ab7-42e5-96cd-afc0b3e2b81f",
   "metadata": {},
   "outputs": [],
   "source": [
    "# All variable parameters are here\n",
    "input_file = 'data/yeast.tif'\n",
    "ground_truth_file = 'data/cellpose_truth.tif'\n",
    "show_images = True\n",
    "save_result = False"
   ]
  },
  {
   "cell_type": "code",
   "execution_count": 3,
   "id": "25f0bba4-ddf1-442e-9eb2-d45b01581ec0",
   "metadata": {},
   "outputs": [
    {
     "name": "stdout",
     "output_type": "stream",
     "text": [
      "Setup successful!\n"
     ]
    }
   ],
   "source": [
    "if show_images:\n",
    "    # Create a viewer\n",
    "    viewer = napari.Viewer()\n",
    "    print(\"Setup successful!\")"
   ]
  },
  {
   "cell_type": "code",
   "execution_count": 4,
   "id": "e4d912c5-0e07-4e20-acfc-10b708ed73a7",
   "metadata": {},
   "outputs": [],
   "source": [
    "image = io.imread(input_file)\n",
    "plane_of_interest = image[1,:,:] # Extract second plane\n",
    "\n",
    "if show_images:\n",
    "    viewer.add_image(plane_of_interest, name='Original', colormap='gray')\n",
    "\n",
    "\n",
    "# Display cellpose results, considered ground truth\n",
    "cellpose_mask = io.imread('data/cellpose_mask.tif')\n",
    "\n",
    "if show_images:\n",
    "    viewer.add_labels(cellpose_mask, name=\"Cellpose Label Image\")\n"
   ]
  },
  {
   "cell_type": "code",
   "execution_count": 5,
   "id": "737f4c48-dcb6-4ea7-8ea7-89a607fffbf2",
   "metadata": {},
   "outputs": [
    {
     "name": "stdout",
     "output_type": "stream",
     "text": [
      "Results table initialized:\n"
     ]
    },
    {
     "data": {
      "text/html": [
       "<div>\n",
       "<style scoped>\n",
       "    .dataframe tbody tr th:only-of-type {\n",
       "        vertical-align: middle;\n",
       "    }\n",
       "\n",
       "    .dataframe tbody tr th {\n",
       "        vertical-align: top;\n",
       "    }\n",
       "\n",
       "    .dataframe thead th {\n",
       "        text-align: right;\n",
       "    }\n",
       "</style>\n",
       "<table border=\"1\" class=\"dataframe\">\n",
       "  <thead>\n",
       "    <tr style=\"text-align: right;\">\n",
       "      <th></th>\n",
       "      <th>blur_radius_for_normalisation</th>\n",
       "      <th>median_filter_size</th>\n",
       "      <th>threshold_bright_pixels</th>\n",
       "      <th>remove_objects_below_size</th>\n",
       "      <th>min_distance_bridge_cut</th>\n",
       "      <th>dilate_borders_px</th>\n",
       "      <th>remove_objects_above_size</th>\n",
       "      <th>label_expansion</th>\n",
       "      <th>IoU_Score</th>\n",
       "      <th>Ground_Truth_Objects</th>\n",
       "      <th>Detected_Objects</th>\n",
       "    </tr>\n",
       "  </thead>\n",
       "  <tbody>\n",
       "  </tbody>\n",
       "</table>\n",
       "</div>"
      ],
      "text/plain": [
       "Empty DataFrame\n",
       "Columns: [blur_radius_for_normalisation, median_filter_size, threshold_bright_pixels, remove_objects_below_size, min_distance_bridge_cut, dilate_borders_px, remove_objects_above_size, label_expansion, IoU_Score, Ground_Truth_Objects, Detected_Objects]\n",
       "Index: []"
      ]
     },
     "metadata": {},
     "output_type": "display_data"
    }
   ],
   "source": [
    "import pandas as pd\n",
    "import numpy as np\n",
    "\n",
    "# Create empty DataFrame with all columns\n",
    "columns = [\n",
    "    'blur_radius_for_normalisation',\n",
    "    'median_filter_size', \n",
    "    'threshold_bright_pixels',\n",
    "    'remove_objects_below_size',\n",
    "    'min_distance_bridge_cut',\n",
    "    'dilate_borders_px',\n",
    "    'remove_objects_above_size',\n",
    "    'label_expansion',\n",
    "    'IoU_Score',\n",
    "    'Ground_Truth_Objects',\n",
    "    'Detected_Objects'\n",
    "]\n",
    "\n",
    "results_table = pd.DataFrame(columns=columns)\n",
    "print(\"Results table initialized:\")\n",
    "\n",
    "from IPython.display import display\n",
    "display(results_table)\n"
   ]
  },
  {
   "cell_type": "code",
   "execution_count": 6,
   "id": "ee8b634e-9242-4191-9a52-4d646d254431",
   "metadata": {},
   "outputs": [],
   "source": [
    "# Analysis parameters\n",
    "\n",
    "# Pseudo flat field: we divide the image by its gaussian blurred version\n",
    "blur_radius_for_normalisation = 20\n",
    "\n",
    "# Removes noise from the image\n",
    "median_filter_size = 3\n",
    "\n",
    "# Threshold bright pixels which are surrounding the cell\n",
    "threshold_bright_pixels = 1.14 # 1.15 original\n",
    "\n",
    "# Remove small objects which are assumed not to represent any cell border\n",
    "remove_objects_below_size = 140 # 150 original\n",
    "\n",
    "# Splits seeds connected by a thin bridge\n",
    "min_distance_bridge_cut = 4\n",
    "\n",
    "# Dilate border mask. Goal: closing cells, without losing small ones. Value too big: small cell are missed. Values too small: cells remain opened, thus closed\n",
    "dilate_borders_px = 9 # original 10\n",
    "\n",
    "# Once the image is becoming a label image, we remove the labels which are too big: they are not cells but rather the background or interstices between cells\n",
    "remove_objects_above_size = 5000\n",
    "\n",
    "# Makes cells more blobby, make them match better their outline\n",
    "label_expansion = 16"
   ]
  },
  {
   "cell_type": "code",
   "execution_count": 7,
   "id": "a22218e3-3fb7-4dfd-be65-ff9abbe4c170",
   "metadata": {},
   "outputs": [],
   "source": [
    "# Normalize: divide by the gaussian blurred version of the image (radius 20 pixels), output is 32 bits\n",
    "def normalize_with_blur(image, blur_radius):\n",
    "    \"\"\"\n",
    "    Normalize image by dividing by its Gaussian blurred version.\n",
    "    Returns 32-bit float result.\n",
    "    \"\"\"\n",
    "    # Gaussian blur\n",
    "    blurred = filters.gaussian(image.astype(np.float32), sigma=blur_radius)\n",
    "    \n",
    "    # Normalize and convert to 32-bit float\n",
    "    normalized = (image.astype(np.float32) / blurred).astype(np.float32)\n",
    "    \n",
    "    return normalized"
   ]
  },
  {
   "cell_type": "code",
   "execution_count": 8,
   "id": "fa164467-309f-47e9-8fa2-c6bebbd6115c",
   "metadata": {},
   "outputs": [],
   "source": [
    "normalized_image = normalize_with_blur(plane_of_interest, blur_radius=blur_radius_for_normalisation)\n",
    "\n",
    "if show_images:\n",
    "    viewer.add_image(normalized_image, name='Normalized', colormap='gray')"
   ]
  },
  {
   "cell_type": "code",
   "execution_count": 9,
   "id": "77603266-7073-44ca-a6e8-c5a0c5efc783",
   "metadata": {},
   "outputs": [],
   "source": [
    "# Apply median filter\n",
    "filtered_image = filters.median(normalized_image, disk(median_filter_size))\n",
    "\n",
    "if show_images:\n",
    "    viewer.add_image(filtered_image, name='Median_Disk_3', colormap='gray')"
   ]
  },
  {
   "cell_type": "code",
   "execution_count": 10,
   "id": "ff85e1db-0476-40d4-84e0-9d593fc57571",
   "metadata": {},
   "outputs": [],
   "source": [
    "# Keeps bright pixels surrounding cells\n",
    "thresholded_image = (filtered_image>threshold_bright_pixels)\n",
    "\n",
    "if show_images:\n",
    "    viewer.add_image(thresholded_image, name='Threshold_'+str(threshold_bright_pixels), colormap='gray')"
   ]
  },
  {
   "cell_type": "code",
   "execution_count": 11,
   "id": "c3cbdcbc-a53f-4efd-94cd-64e78aac2997",
   "metadata": {},
   "outputs": [],
   "source": [
    "# Remove small connected components, 8-bits connectivity\n",
    "cleaned_image = remove_small_objects(thresholded_image, min_size=remove_objects_below_size, connectivity=2)\n",
    "\n",
    "if show_images:\n",
    "    viewer.add_image(cleaned_image, name='Cleaned Objects below '+str(remove_objects_below_size), colormap='gray')"
   ]
  },
  {
   "cell_type": "code",
   "execution_count": 12,
   "id": "a190a24f-8fe5-4629-af58-3aba6cb45de0",
   "metadata": {},
   "outputs": [],
   "source": [
    "# Dilate border image\n",
    "\n",
    "dilated_image = dilation(cleaned_image, disk(dilate_borders_px))\n",
    "\n",
    "if show_images:\n",
    "    viewer.add_image(dilated_image, name='Dilated_'+str(dilate_borders_px), colormap='gray')"
   ]
  },
  {
   "cell_type": "code",
   "execution_count": 13,
   "id": "3b7aa283-35fd-4920-88f9-02a8c31af1ea",
   "metadata": {},
   "outputs": [],
   "source": [
    "# Keep only objects SMALLER than a certain size\n",
    "def keep_small_objects(binary_mask, max_size):\n",
    "    # Remove objects >= max_size (keeping smaller ones)\n",
    "    large_objects = remove_small_objects(binary_mask, min_size=max_size)\n",
    "    # Subtract large objects from original to keep only small ones\n",
    "    small_objects_only = binary_mask & ~large_objects\n",
    "    return small_objects_only\n",
    "\n",
    "# Usage\n",
    "seeds_raw = keep_small_objects(~dilated_image, max_size=remove_objects_above_size)\n",
    "\n",
    "if show_images:\n",
    "    viewer.add_image(seeds_raw, name='Seeds', colormap='gray')\n"
   ]
  },
  {
   "cell_type": "code",
   "execution_count": 14,
   "id": "547810d9-66a6-4eb8-9c53-2ade1e007111",
   "metadata": {},
   "outputs": [],
   "source": [
    "\n",
    "def distance_threshold_mask(binary_mask, min_distance=2):\n",
    "    \"\"\"\n",
    "    Create a mask keeping only pixels that are at least min_distance \n",
    "    away from the edge of objects.\n",
    "    \"\"\"\n",
    "    # Compute distance transform (distance to nearest background pixel)\n",
    "    distance = ndimage.distance_transform_edt(binary_mask)\n",
    "    \n",
    "    # Keep only pixels with distance >= min_distance\n",
    "    thresholded_mask = distance >= min_distance\n",
    "    \n",
    "    return thresholded_mask\n",
    "\n",
    "seeds_split = distance_threshold_mask(seeds_raw, min_distance=min_distance_bridge_cut)\n",
    "\n",
    "if show_images:\n",
    "    viewer.add_image(seeds_split, name='Seeds Split', colormap='gray')"
   ]
  },
  {
   "cell_type": "code",
   "execution_count": 15,
   "id": "66a3c05a-d497-49cf-b276-e6d7777e58a2",
   "metadata": {},
   "outputs": [],
   "source": [
    "# Now let's invert and mark as label\n",
    "\n",
    "# Convert binary image to labeled image\n",
    "labels_raw = label(seeds_split)\n",
    "\n",
    "if show_images:\n",
    "    viewer.add_labels(labels_raw, name = \"Seeds Labels\")"
   ]
  },
  {
   "cell_type": "code",
   "execution_count": 16,
   "id": "f7469d89-2b44-4a57-a93a-e61a9a15e852",
   "metadata": {},
   "outputs": [],
   "source": [
    "# Expand labels to cover the whole cell\n",
    "labels = expand_labels(labels_raw, distance=label_expansion)\n",
    "\n",
    "if show_images:\n",
    "    # Find boundaries between labeled regions\n",
    "    viewer.add_labels(labels, name=\"Labels, Final\")\n",
    "\n",
    "if save_result:\n",
    "    # save results to tif\n",
    "    import tifffile\n",
    "    \n",
    "    # Save the labeled mask as TIFF\n",
    "    tifffile.imwrite('data/result_mask_v3.tif', labels)\n",
    "\n",
    "if show_images:\n",
    "    # Find boundaries between labeled regions\n",
    "    boundaries = find_boundaries(labels, mode='thick')\n",
    "    \n",
    "    # Create a display image: labels with black boundaries\n",
    "    blobby_labels_eroded = labels.copy()\n",
    "    blobby_labels_eroded[boundaries] = 0  # Set boundaries to 0 (black)\n",
    "    \n",
    "    viewer.add_labels(boundaries, name=\"Cell Delimitation\")"
   ]
  },
  {
   "cell_type": "code",
   "execution_count": 17,
   "id": "47ff94bd-59ad-43ca-a0a7-b05588f793a4",
   "metadata": {},
   "outputs": [
    {
     "name": "stdout",
     "output_type": "stream",
     "text": [
      "IoU: 0.691\n"
     ]
    }
   ],
   "source": [
    "import numpy as np\n",
    "\n",
    "def iou_binary(labels1, labels2):\n",
    "    \"\"\"Compute IoU between two label images (converted to binary).\"\"\"\n",
    "    # Convert to binary (any label > 0)\n",
    "    binary1 = labels1 > 0\n",
    "    binary2 = labels2 > 0\n",
    "    \n",
    "    # Compute intersection and union\n",
    "    intersection = np.sum(binary1 & binary2)\n",
    "    union = np.sum(binary1 | binary2)\n",
    "    \n",
    "    # Avoid division by zero\n",
    "    if union == 0:\n",
    "        return 1.0 if intersection == 0 else 0.0\n",
    "    \n",
    "    iou = intersection / union\n",
    "    return iou\n",
    "\n",
    "# Usage\n",
    "iou_score = iou_binary(labels, cellpose_mask)\n",
    "print(f\"IoU: {iou_score:.3f}\")"
   ]
  },
  {
   "cell_type": "code",
   "execution_count": 18,
   "id": "968933c6-ed7f-409b-b37d-d25b7a17e0b7",
   "metadata": {},
   "outputs": [
    {
     "name": "stdout",
     "output_type": "stream",
     "text": [
      "Experiment 1 added:\n"
     ]
    },
    {
     "name": "stderr",
     "output_type": "stream",
     "text": [
      "C:\\Users\\Nicolas\\AppData\\Local\\Temp\\ipykernel_13980\\3840769688.py:23: FutureWarning: The behavior of DataFrame concatenation with empty or all-NA entries is deprecated. In a future version, this will no longer exclude empty or all-NA columns when determining the result dtypes. To retain the old behavior, exclude the relevant entries before the concat operation.\n",
      "  results_table = pd.concat([results_table, pd.DataFrame([new_row])], ignore_index=True)\n"
     ]
    },
    {
     "data": {
      "text/html": [
       "<div>\n",
       "<style scoped>\n",
       "    .dataframe tbody tr th:only-of-type {\n",
       "        vertical-align: middle;\n",
       "    }\n",
       "\n",
       "    .dataframe tbody tr th {\n",
       "        vertical-align: top;\n",
       "    }\n",
       "\n",
       "    .dataframe thead th {\n",
       "        text-align: right;\n",
       "    }\n",
       "</style>\n",
       "<table border=\"1\" class=\"dataframe\">\n",
       "  <thead>\n",
       "    <tr style=\"text-align: right;\">\n",
       "      <th></th>\n",
       "      <th>blur_radius_for_normalisation</th>\n",
       "      <th>median_filter_size</th>\n",
       "      <th>threshold_bright_pixels</th>\n",
       "      <th>remove_objects_below_size</th>\n",
       "      <th>min_distance_bridge_cut</th>\n",
       "      <th>dilate_borders_px</th>\n",
       "      <th>remove_objects_above_size</th>\n",
       "      <th>label_expansion</th>\n",
       "      <th>IoU_Score</th>\n",
       "      <th>Ground_Truth_Objects</th>\n",
       "      <th>Detected_Objects</th>\n",
       "    </tr>\n",
       "  </thead>\n",
       "  <tbody>\n",
       "    <tr>\n",
       "      <th>0</th>\n",
       "      <td>20</td>\n",
       "      <td>3</td>\n",
       "      <td>1.14</td>\n",
       "      <td>140</td>\n",
       "      <td>4</td>\n",
       "      <td>9</td>\n",
       "      <td>5000</td>\n",
       "      <td>16</td>\n",
       "      <td>0.691</td>\n",
       "      <td>501</td>\n",
       "      <td>421</td>\n",
       "    </tr>\n",
       "  </tbody>\n",
       "</table>\n",
       "</div>"
      ],
      "text/plain": [
       "  blur_radius_for_normalisation median_filter_size  threshold_bright_pixels  \\\n",
       "0                            20                  3                     1.14   \n",
       "\n",
       "  remove_objects_below_size min_distance_bridge_cut dilate_borders_px  \\\n",
       "0                       140                       4                 9   \n",
       "\n",
       "  remove_objects_above_size label_expansion  IoU_Score Ground_Truth_Objects  \\\n",
       "0                      5000              16      0.691                  501   \n",
       "\n",
       "  Detected_Objects  \n",
       "0              421  "
      ]
     },
     "metadata": {},
     "output_type": "display_data"
    }
   ],
   "source": [
    "# Calculate metrics\n",
    "iou_score = iou_binary(labels, cellpose_mask)\n",
    "n_gt_objects = len(np.unique(cellpose_mask)) - 1\n",
    "n_detected_objects = len(np.unique(labels)) - 1\n",
    "\n",
    "\n",
    "# Create new row with current parameters and results\n",
    "new_row = {\n",
    "    'blur_radius_for_normalisation': blur_radius_for_normalisation,\n",
    "    'median_filter_size': median_filter_size,\n",
    "    'threshold_bright_pixels': threshold_bright_pixels,\n",
    "    'remove_objects_below_size': remove_objects_below_size,\n",
    "    'min_distance_bridge_cut': min_distance_bridge_cut,\n",
    "    'dilate_borders_px': dilate_borders_px,\n",
    "    'remove_objects_above_size': remove_objects_above_size,\n",
    "    'label_expansion': label_expansion,\n",
    "    'IoU_Score': round(iou_score, 3),\n",
    "    'Ground_Truth_Objects': n_gt_objects,\n",
    "    'Detected_Objects': n_detected_objects\n",
    "}\n",
    "\n",
    "# Add to results table\n",
    "results_table = pd.concat([results_table, pd.DataFrame([new_row])], ignore_index=True)\n",
    "\n",
    "# Display updated table\n",
    "print(f\"Experiment {len(results_table)} added:\")\n",
    "display(results_table)"
   ]
  },
  {
   "cell_type": "code",
   "execution_count": null,
   "id": "b77329ce-5460-4ded-af42-5b7c312999db",
   "metadata": {},
   "outputs": [],
   "source": []
  }
 ],
 "metadata": {
  "kernelspec": {
   "display_name": "Python 3 (ipykernel)",
   "language": "python",
   "name": "python3"
  },
  "language_info": {
   "codemirror_mode": {
    "name": "ipython",
    "version": 3
   },
   "file_extension": ".py",
   "mimetype": "text/x-python",
   "name": "python",
   "nbconvert_exporter": "python",
   "pygments_lexer": "ipython3",
   "version": "3.13.5"
  }
 },
 "nbformat": 4,
 "nbformat_minor": 5
}
